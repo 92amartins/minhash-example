{
 "cells": [
  {
   "cell_type": "code",
   "execution_count": 31,
   "metadata": {},
   "outputs": [],
   "source": [
    "# Importa pacotes utilizados no exemplo\n",
    "from datasketch import MinHash, MinHashLSHForest"
   ]
  },
  {
   "cell_type": "code",
   "execution_count": 32,
   "metadata": {},
   "outputs": [
    {
     "name": "stdout",
     "output_type": "stream",
     "text": [
      "['217024200', '218670000', '123490270', '216973200', '155536400', '216412900', '193394900', '193393800', '193358500']\n",
      "[{'Portas', 'Araplac', 'Rusti', 'Guarda-roupa', 'Casal', '18490-88', '-', '10', 'Gavetas', '3'}, {'Portas', 'Guarda-roupa', 'Casal', '-', 'Espelho', 'Madesa', 'com', '3', 'City', '1056-1E'}, {'Portas', 'Araplac', 'de', 'Lucca', 'Guarda-roupa', 'Casal', 'Correr', '-', 'Gavetas', '3'}, {'Rosa', 'A9', '+', '5MP', 'Apple', 'Tela', '-', 'Selfie', 'Retina', 'Câm.', '6s', 'iPhone', '12MP', '4.7”', 'iOS', '4G', 'Ouro', 'Proc.', '11', '32GB'}, {'Moto', 'Motorola', 'Rosa', '+', 'G5s', 'Smartphone', 'Duo', '-', 'Câm.', 'Dual', 'Chip', '4G', 'Plus', 'Ouro', '13MP', '32GB'}, {'Dourado', 'Flash', 'Metal', 'Smartphone', 'Samsung', '+', '5MP', '-', '16GB', 'Câm', 'Selfie', 'Galaxy', 'Dual', 'Chip', '4G', 'J7', '13MP'}, {'43”', 'Philips', '2', 'LED', '-', 'USB', 'Tela', 'Digital', 'Conversor', '43PFG5102', 'HDMI', 'Série', '3', '5102', 'Smart', 'TV', '5.5”'}, {'43”', '2', 'LG', 'LED', '-', 'USB', '43LJ5550', 'Digital', 'Conversor', 'HDMI', '1', 'webOS', 'Smart', 'TV'}, {'Sony', 'HD', 'Integrado', 'Full', '40”', 'KDL-40R355B', '2', 'LED', '-', 'USB', 'Conversor', 'HDMI', '1', 'TV'}]\n"
     ]
    }
   ],
   "source": [
    "# Tokeniza cada um dos produtos\n",
    "skus = []\n",
    "titles = []\n",
    "with open('products.txt', 'r') as products:\n",
    "    for line in products:\n",
    "        sku, title = line.split(',')\n",
    "        skus.append(sku)\n",
    "        titles.append(set(title.split()))\n",
    "\n",
    "print(skus)\n",
    "print(titles)"
   ]
  },
  {
   "cell_type": "code",
   "execution_count": 33,
   "metadata": {},
   "outputs": [
    {
     "name": "stdout",
     "output_type": "stream",
     "text": [
      "9\n"
     ]
    }
   ],
   "source": [
    "# Constrói as assinaturas MinHash\n",
    "forest = MinHashLSHForest(num_perm=128)\n",
    "signatures = []\n",
    "i = 1\n",
    "\n",
    "for i in range(9):\n",
    "    signature = MinHash(num_perm=128)\n",
    "    for token in titles[i]:\n",
    "        signature.update(token.encode('utf8'))\n",
    "    forest.add(skus[i], signature)\n",
    "    signatures.append(signature)\n",
    "\n",
    "print(len(signatures))"
   ]
  },
  {
   "cell_type": "code",
   "execution_count": 34,
   "metadata": {},
   "outputs": [
    {
     "name": "stdout",
     "output_type": "stream",
     "text": [
      "Produtos candidatos a similares ao sku 217024200: ['217024200', '123490270', '218670000']\n",
      "Produtos candidatos a similares ao sku 218670000: ['217024200', '193394900', '218670000']\n",
      "Produtos candidatos a similares ao sku 123490270: ['217024200', '123490270', '218670000']\n",
      "Produtos candidatos a similares ao sku 216973200: ['216973200', '155536400']\n",
      "Produtos candidatos a similares ao sku 155536400: ['216973200', '216412900', '155536400']\n",
      "Produtos candidatos a similares ao sku 216412900: ['216412900', '155536400']\n",
      "Produtos candidatos a similares ao sku 193394900: ['193394900', '218670000', '123490270']\n",
      "Produtos candidatos a similares ao sku 193393800: ['193393800', '193358500']\n",
      "Produtos candidatos a similares ao sku 193358500: ['193358500', '193393800']\n"
     ]
    }
   ],
   "source": [
    "# Constrói índice\n",
    "forest.index()\n",
    "\n",
    "# Realiza busca dos similares para cada um dos produtos\n",
    "for i in range(9):\n",
    "    result = forest.query(signatures[i], 3)\n",
    "    print('Produtos candidatos a similares ao sku {}:'.format(skus[i]), result)"
   ]
  },
  {
   "cell_type": "code",
   "execution_count": null,
   "metadata": {},
   "outputs": [],
   "source": [
    "# Comentar sobre:\n",
    "\n",
    "- falsos negativos e falsos positivos\n",
    "- Um pouco sobre complexidade computacional"
   ]
  }
 ],
 "metadata": {
  "kernelspec": {
   "display_name": "Python 3",
   "language": "python",
   "name": "python3"
  },
  "language_info": {
   "codemirror_mode": {
    "name": "ipython",
    "version": 3
   },
   "file_extension": ".py",
   "mimetype": "text/x-python",
   "name": "python",
   "nbconvert_exporter": "python",
   "pygments_lexer": "ipython3",
   "version": "3.6.4"
  }
 },
 "nbformat": 4,
 "nbformat_minor": 2
}
