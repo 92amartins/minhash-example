{
 "cells": [
  {
   "cell_type": "code",
   "execution_count": 2,
   "metadata": {},
   "outputs": [],
   "source": [
    "# Import packages\n",
    "from datasketch import MinHash, MinHashLSHForest"
   ]
  },
  {
   "cell_type": "code",
   "execution_count": 3,
   "metadata": {},
   "outputs": [
    {
     "name": "stdout",
     "output_type": "stream",
     "text": [
      "['217024200', '218670000', '123490270', '216973200', '155536400', '216412900', '193394900', '193393800', '193358500']\n",
      "[{'Gavetas', '-', 'Araplac', '3', '10', 'Casal', 'Guarda-roupa', 'Rusti', '18490-88', 'Portas'}, {'-', 'Espelho', '3', 'Casal', 'City', 'Madesa', 'Guarda-roupa', '1056-1E', 'com', 'Portas'}, {'Gavetas', '-', 'Araplac', 'Lucca', '3', 'Casal', 'de', 'Guarda-roupa', 'Correr', 'Portas'}, {'Apple', '-', 'Retina', '12MP', '6s', 'Ouro', '4G', '4.7”', 'Câm.', 'Rosa', 'Proc.', 'A9', '32GB', '11', 'iPhone', 'Tela', '+', 'iOS', 'Selfie', '5MP'}, {'-', 'Ouro', '4G', 'Câm.', '13MP', 'Duo', 'Rosa', 'Plus', 'Chip', '32GB', 'Smartphone', 'Dual', '+', 'G5s', 'Moto', 'Motorola'}, {'Samsung', 'Dourado', '16GB', '-', 'Câm', '4G', '13MP', 'Chip', 'Galaxy', 'Smartphone', 'Dual', '+', 'Selfie', 'Metal', '5MP', 'J7', 'Flash'}, {'Conversor', '-', '5102', 'TV', 'USB', 'LED', '3', 'HDMI', 'Digital', '43PFG5102', '2', '43”', 'Smart', 'Série', 'Philips', 'Tela', '5.5”'}, {'Conversor', 'webOS', '-', 'LG', 'TV', 'USB', 'LED', 'HDMI', 'Digital', '2', '43”', 'Smart', '43LJ5550', '1'}, {'Sony', 'Conversor', 'Full', '-', 'TV', 'USB', 'LED', 'HDMI', '40”', '2', 'HD', '1', 'KDL-40R355B', 'Integrado'}]\n"
     ]
    }
   ],
   "source": [
    "# Tokenize each product\n",
    "skus = []\n",
    "titles = []\n",
    "with open('products.txt', 'r') as products:\n",
    "    for line in products:\n",
    "        sku, title = line.split(',')\n",
    "        skus.append(sku)\n",
    "        titles.append(set(title.split()))\n",
    "\n",
    "print(skus)\n",
    "print(titles)"
   ]
  },
  {
   "cell_type": "code",
   "execution_count": 4,
   "metadata": {},
   "outputs": [
    {
     "name": "stdout",
     "output_type": "stream",
     "text": [
      "9\n"
     ]
    }
   ],
   "source": [
    "# Build MinHash Signatures for each product title\n",
    "forest = MinHashLSHForest(num_perm=128)\n",
    "signatures = []\n",
    "i = 1\n",
    "\n",
    "for i in range(9):\n",
    "    signature = MinHash(num_perm=128)\n",
    "    for token in titles[i]:\n",
    "        signature.update(token.encode('utf8'))\n",
    "    forest.add(skus[i], signature)\n",
    "    signatures.append(signature)\n",
    "\n",
    "print(len(signatures))"
   ]
  },
  {
   "cell_type": "code",
   "execution_count": 5,
   "metadata": {},
   "outputs": [
    {
     "name": "stdout",
     "output_type": "stream",
     "text": [
      "Produtos candidatos a similares ao sku 217024200: ['218670000', '123490270', '217024200']\n",
      "Produtos candidatos a similares ao sku 218670000: ['218670000', '217024200', '193394900']\n",
      "Produtos candidatos a similares ao sku 123490270: ['218670000', '123490270', '217024200']\n",
      "Produtos candidatos a similares ao sku 216973200: ['216973200', '155536400']\n",
      "Produtos candidatos a similares ao sku 155536400: ['216412900', '216973200', '155536400']\n",
      "Produtos candidatos a similares ao sku 216412900: ['216412900', '155536400']\n",
      "Produtos candidatos a similares ao sku 193394900: ['218670000', '123490270', '193394900']\n",
      "Produtos candidatos a similares ao sku 193393800: ['193393800', '193358500']\n",
      "Produtos candidatos a similares ao sku 193358500: ['193393800', '193358500']\n"
     ]
    }
   ],
   "source": [
    "# Build index for search (that's where I think LSH comes in)\n",
    "forest.index()\n",
    "\n",
    "# For each product, search the similar candidates\n",
    "for i in range(9):\n",
    "    result = forest.query(signatures[i], 3)\n",
    "    print('Produtos candidatos a similares ao sku {}:'.format(skus[i]), result)"
   ]
  },
  {
   "cell_type": "code",
   "execution_count": 6,
   "metadata": {},
   "outputs": [],
   "source": [
    "# Comment about...\n",
    "\n",
    "# - False negatives and false positives.\n",
    "# - A bit of computational complexity."
   ]
  }
 ],
 "metadata": {
  "kernelspec": {
   "display_name": "Python 3",
   "language": "python",
   "name": "python3"
  },
  "language_info": {
   "codemirror_mode": {
    "name": "ipython",
    "version": 3
   },
   "file_extension": ".py",
   "mimetype": "text/x-python",
   "name": "python",
   "nbconvert_exporter": "python",
   "pygments_lexer": "ipython3",
   "version": "3.6.4"
  }
 },
 "nbformat": 4,
 "nbformat_minor": 2
}
